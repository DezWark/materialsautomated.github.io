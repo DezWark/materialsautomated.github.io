{
 "cells": [
  {
   "cell_type": "code",
   "execution_count": 1,
   "metadata": {},
   "outputs": [
    {
     "data": {
      "text/plain": [
       "['Input/YbB12_resistivity_leads.log']"
      ]
     },
     "execution_count": 1,
     "metadata": {},
     "output_type": "execute_result"
    }
   ],
   "source": [
    "import configparser\n",
    "\n",
    "config = configparser.ConfigParser()\n",
    "config.read('Input/YbB12_resistivity_leads.log')"
   ]
  },
  {
   "cell_type": "code",
   "execution_count": 2,
   "metadata": {},
   "outputs": [
    {
     "name": "stdout",
     "output_type": "stream",
     "text": [
      "{'data directory': 'E:\\\\Other Group\\\\McQueen\\\\24102019', 'filename prefix': 'YbB12_resistivity_leads', 'configuration': 'C:\\\\SkyScan\\\\config\\\\Std_60_80_100kV_', 'number of files': '202', 'source voltage (kv)': '100', 'source current (ua)': '100', 'number of rows': '1332', 'number of columns': '2000', 'image crop origin x': '0', 'image crop origin y': '0', 'camera binning': '2x2', 'image rotation': '-0.1450', 'gantry direction': 'CC', 'image pixel size (um)': '9.87', 'object to source (mm)': '116.370', 'camera to source (mm)': '210.131', 'vertical object position (mm)': '45.000', 'optical axis (line)': '657', 'filter': 'Al+Cu', 'image format': 'TIFF', 'depth (bits)': '16', 'screen lut': '0', 'exposure (ms)': '1360', 'rotation step (deg)': '1.000', 'frame averaging': 'ON (1)', 'random movement': 'OFF (5)', 'use 360 rotation': 'NO', 'geometrical correction': 'ON', 'camera offset': 'OFF', 'median filtering': 'ON', 'flat field correction': 'ON', 'rotation direction': 'CC', 'scanning trajectory': 'ROUND', 'type of motion': 'STEP AND SHOOT', 'study date and time': 'Oct 24, 2019  15:37:35', 'scan duration': '00:14:21', 'maximum vertical ts': '5.0'}\n"
     ]
    }
   ],
   "source": [
    "print(dict(config['Acquisition']))"
   ]
  },
  {
   "cell_type": "code",
   "execution_count": 3,
   "metadata": {},
   "outputs": [],
   "source": [
    "theta_step = float(config['Acquisition']['rotation step (deg)'])"
   ]
  },
  {
   "cell_type": "code",
   "execution_count": 4,
   "metadata": {},
   "outputs": [
    {
     "name": "stdout",
     "output_type": "stream",
     "text": [
      "[0, 1, 2, 3, 4, 5, 6, 7, 8, 9, 10, 11, 12, 13, 14, 15, 16, 17, 18, 19, 20, 21, 22, 23, 24, 25, 26, 27, 28, 29, 30, 31, 32, 33, 34, 35, 36, 37, 38, 39, 40, 41, 42, 43, 44, 45, 46, 47, 48, 49, 50, 51, 52, 53, 54, 55, 56, 57, 58, 59, 60, 61, 62, 63, 64, 65, 66, 67, 68, 69, 70, 71, 72, 73, 74, 75, 76, 77, 78, 79, 80, 81, 82, 83, 84, 85, 86, 87, 88, 89, 90, 91, 92, 93, 94, 95, 96, 97, 98, 99, 100, 101, 102, 103, 104, 105, 106, 107, 108, 109, 110, 111, 112, 113, 114, 115, 116, 117, 118, 119, 120, 121, 122, 123, 124, 125, 126, 127, 128, 129, 130, 131, 132, 133, 134, 135, 136, 137, 138, 139, 140, 141, 142, 143, 144, 145, 146, 147, 148, 149, 150, 151, 152, 153, 154, 155, 156, 157, 158, 159, 160, 161, 162, 163, 164, 165, 166, 167, 168, 169, 170, 171, 172, 173, 174, 175, 176, 177, 178, 179, 180, 181, 182, 183, 184, 185, 186, 187, 188, 189, 190, 191, 192, 193, 194, 195, 196, 197, 198, 199, 200]\n",
      "[0.         0.01745329 0.03490659 0.05235988 0.06981317 0.08726646\n",
      " 0.10471976 0.12217305 0.13962634 0.15707963 0.17453293 0.19198622\n",
      " 0.20943951 0.2268928  0.2443461  0.26179939 0.27925268 0.29670597\n",
      " 0.31415927 0.33161256 0.34906585 0.36651914 0.38397244 0.40142573\n",
      " 0.41887902 0.43633231 0.45378561 0.4712389  0.48869219 0.50614548\n",
      " 0.52359878 0.54105207 0.55850536 0.57595865 0.59341195 0.61086524\n",
      " 0.62831853 0.64577182 0.66322512 0.68067841 0.6981317  0.71558499\n",
      " 0.73303829 0.75049158 0.76794487 0.78539816 0.80285146 0.82030475\n",
      " 0.83775804 0.85521133 0.87266463 0.89011792 0.90757121 0.9250245\n",
      " 0.9424778  0.95993109 0.97738438 0.99483767 1.01229097 1.02974426\n",
      " 1.04719755 1.06465084 1.08210414 1.09955743 1.11701072 1.13446401\n",
      " 1.15191731 1.1693706  1.18682389 1.20427718 1.22173048 1.23918377\n",
      " 1.25663706 1.27409035 1.29154365 1.30899694 1.32645023 1.34390352\n",
      " 1.36135682 1.37881011 1.3962634  1.41371669 1.43116999 1.44862328\n",
      " 1.46607657 1.48352986 1.50098316 1.51843645 1.53588974 1.55334303\n",
      " 1.57079633 1.58824962 1.60570291 1.6231562  1.6406095  1.65806279\n",
      " 1.67551608 1.69296937 1.71042267 1.72787596 1.74532925 1.76278254\n",
      " 1.78023584 1.79768913 1.81514242 1.83259571 1.85004901 1.8675023\n",
      " 1.88495559 1.90240888 1.91986218 1.93731547 1.95476876 1.97222205\n",
      " 1.98967535 2.00712864 2.02458193 2.04203522 2.05948852 2.07694181\n",
      " 2.0943951  2.11184839 2.12930169 2.14675498 2.16420827 2.18166156\n",
      " 2.19911486 2.21656815 2.23402144 2.25147474 2.26892803 2.28638132\n",
      " 2.30383461 2.32128791 2.3387412  2.35619449 2.37364778 2.39110108\n",
      " 2.40855437 2.42600766 2.44346095 2.46091425 2.47836754 2.49582083\n",
      " 2.51327412 2.53072742 2.54818071 2.565634   2.58308729 2.60054059\n",
      " 2.61799388 2.63544717 2.65290046 2.67035376 2.68780705 2.70526034\n",
      " 2.72271363 2.74016693 2.75762022 2.77507351 2.7925268  2.8099801\n",
      " 2.82743339 2.84488668 2.86233997 2.87979327 2.89724656 2.91469985\n",
      " 2.93215314 2.94960644 2.96705973 2.98451302 3.00196631 3.01941961\n",
      " 3.0368729  3.05432619 3.07177948 3.08923278 3.10668607 3.12413936\n",
      " 3.14159265 3.15904595 3.17649924 3.19395253 3.21140582 3.22885912\n",
      " 3.24631241 3.2637657  3.28121899 3.29867229 3.31612558 3.33357887\n",
      " 3.35103216 3.36848546 3.38593875 3.40339204 3.42084533 3.43829863\n",
      " 3.45575192 3.47320521 3.4906585 ]\n",
      "Input/YbB12_resistivity_leads0000.tif\n"
     ]
    }
   ],
   "source": [
    "from pathlib import Path\n",
    "import numpy as np\n",
    "sd = Path('Input')\n",
    "prefix = config['Acquisition']['filename prefix']\n",
    "tiffs = sorted(sd.glob(prefix + \"[0-9]*.tif\"))\n",
    "num_files = len(tiffs)\n",
    "ind = list(range(0,num_files))\n",
    "print(ind)\n",
    "theta = np.array(ind)*theta_step/180*np.pi;\n",
    "print(theta)\n",
    "print(tiffs[0])"
   ]
  },
  {
   "cell_type": "code",
   "execution_count": 5,
   "metadata": {},
   "outputs": [],
   "source": [
    "import dxchange.reader as dxreader\n",
    "tomo = dxreader.read_tiff_stack(tiffs[0],ind)"
   ]
  },
  {
   "cell_type": "code",
   "execution_count": 6,
   "metadata": {},
   "outputs": [],
   "source": [
    "minval = np.amin(tomo)\n",
    "maxval = np.amax(tomo)\n",
    "tomo = (tomo-minval)/(maxval-minval)"
   ]
  },
  {
   "cell_type": "code",
   "execution_count": 7,
   "metadata": {},
   "outputs": [
    {
     "name": "stderr",
     "output_type": "stream",
     "text": [
      "INFO:numexpr.utils:Note: NumExpr detected 16 cores but \"NUMEXPR_MAX_THREADS\" not set, so enforcing safe limit of 8.\n",
      "INFO:numexpr.utils:NumExpr defaulting to 8 threads.\n",
      "INFO:tomopy.recon.rotation:Trying rotation center: [1000.]\n",
      "INFO:tomopy.recon.rotation:Function value = 0.597278\n",
      "INFO:tomopy.recon.rotation:Trying rotation center: [1050.]\n",
      "INFO:tomopy.recon.rotation:Function value = 0.716903\n",
      "INFO:tomopy.recon.rotation:Trying rotation center: [950.]\n",
      "INFO:tomopy.recon.rotation:Function value = 0.717496\n",
      "INFO:tomopy.recon.rotation:Trying rotation center: [1025.]\n",
      "INFO:tomopy.recon.rotation:Function value = 0.624130\n",
      "INFO:tomopy.recon.rotation:Trying rotation center: [975.]\n",
      "INFO:tomopy.recon.rotation:Function value = 0.622509\n",
      "INFO:tomopy.recon.rotation:Trying rotation center: [987.5]\n",
      "INFO:tomopy.recon.rotation:Function value = 0.588916\n",
      "INFO:tomopy.recon.rotation:Trying rotation center: [975.]\n",
      "INFO:tomopy.recon.rotation:Function value = 0.622509\n",
      "INFO:tomopy.recon.rotation:Trying rotation center: [993.75]\n",
      "INFO:tomopy.recon.rotation:Function value = 0.577297\n",
      "INFO:tomopy.recon.rotation:Trying rotation center: [1000.]\n",
      "INFO:tomopy.recon.rotation:Function value = 0.597278\n",
      "INFO:tomopy.recon.rotation:Trying rotation center: [990.625]\n",
      "INFO:tomopy.recon.rotation:Function value = 0.576565\n",
      "INFO:tomopy.recon.rotation:Trying rotation center: [987.5]\n",
      "INFO:tomopy.recon.rotation:Function value = 0.588916\n",
      "INFO:tomopy.recon.rotation:Trying rotation center: [992.1875]\n",
      "INFO:tomopy.recon.rotation:Function value = 0.577645\n",
      "INFO:tomopy.recon.rotation:Trying rotation center: [992.1875]\n",
      "INFO:tomopy.recon.rotation:Function value = 0.577645\n",
      "INFO:tomopy.recon.rotation:Trying rotation center: [989.0625]\n",
      "INFO:tomopy.recon.rotation:Function value = 0.580932\n",
      "INFO:tomopy.recon.rotation:Trying rotation center: [991.40625]\n",
      "INFO:tomopy.recon.rotation:Function value = 0.576479\n",
      "INFO:tomopy.recon.rotation:Trying rotation center: [992.1875]\n",
      "INFO:tomopy.recon.rotation:Function value = 0.577645\n",
      "INFO:tomopy.recon.rotation:Trying rotation center: [991.015625]\n",
      "INFO:tomopy.recon.rotation:Function value = 0.576681\n",
      "INFO:tomopy.recon.rotation:Trying rotation center: [991.015625]\n",
      "INFO:tomopy.recon.rotation:Function value = 0.576681\n"
     ]
    }
   ],
   "source": [
    "import logging\n",
    "logging.basicConfig(level=logging.INFO)\n",
    "import tomopy\n",
    "rot_center = tomopy.find_center(tomo, theta)"
   ]
  },
  {
   "cell_type": "code",
   "execution_count": 8,
   "metadata": {},
   "outputs": [
    {
     "name": "stdout",
     "output_type": "stream",
     "text": [
      "[991.40625]\n"
     ]
    }
   ],
   "source": [
    "print(rot_center)"
   ]
  },
  {
   "cell_type": "code",
   "execution_count": 9,
   "metadata": {},
   "outputs": [],
   "source": [
    "proj = tomopy.minus_log(tomo)"
   ]
  },
  {
   "cell_type": "code",
   "execution_count": 10,
   "metadata": {},
   "outputs": [],
   "source": [
    "recon = tomopy.recon(proj, theta, center=rot_center, algorithm='gridrec', sinogram_order=False)"
   ]
  },
  {
   "cell_type": "code",
   "execution_count": 11,
   "metadata": {},
   "outputs": [
    {
     "name": "stderr",
     "output_type": "stream",
     "text": [
      "/home/idies/miniconda3/envs/py37/lib/python3.7/site-packages/ipyvolume/widgets.py:241: FutureWarning: Using a non-tuple sequence for multidimensional indexing is deprecated; use `arr[tuple(seq)]` instead of `arr[seq]`. In the future this will be interpreted as an array index, `arr[np.array(seq)]`, which will result either in an error or a different result.\n",
      "  data_view = self.data_original[view]\n",
      "/home/idies/miniconda3/envs/py37/lib/python3.7/site-packages/ipyvolume/utils.py:207: FutureWarning: Using a non-tuple sequence for multidimensional indexing is deprecated; use `arr[tuple(seq)]` instead of `arr[seq]`. In the future this will be interpreted as an array index, `arr[np.array(seq)]`, which will result either in an error or a different result.\n",
      "  data = (data[slices1] + data[slices2]) / 2\n"
     ]
    },
    {
     "data": {
      "application/vnd.jupyter.widget-view+json": {
       "model_id": "e03aab5523eb49af8c2e438dcbb59043",
       "version_major": 2,
       "version_minor": 0
      },
      "text/plain": [
       "VBox(children=(VBox(children=(HBox(children=(Label(value='levels:'), FloatSlider(value=0.1, max=1.0, step=0.00…"
      ]
     },
     "metadata": {},
     "output_type": "display_data"
    }
   ],
   "source": [
    "import ipyvolume as ipv\n",
    "ipv.quickvolshow(recon)"
   ]
  },
  {
   "cell_type": "code",
   "execution_count": 12,
   "metadata": {},
   "outputs": [],
   "source": [
    "recon2 = np.copy(recon)\n",
    "recon2 = tomopy.circ_mask(recon2, axis=0, ratio=0.95)"
   ]
  },
  {
   "cell_type": "code",
   "execution_count": 13,
   "metadata": {},
   "outputs": [
    {
     "name": "stderr",
     "output_type": "stream",
     "text": [
      "/home/idies/miniconda3/envs/py37/lib/python3.7/site-packages/ipyvolume/serialize.py:92: RuntimeWarning: invalid value encountered in true_divide\n",
      "  gradient = gradient / np.sqrt(gradient[0] ** 2 + gradient[1] ** 2 + gradient[2] ** 2)\n"
     ]
    },
    {
     "data": {
      "application/vnd.jupyter.widget-view+json": {
       "model_id": "2a780397d115476a9d56a50a7e107113",
       "version_major": 2,
       "version_minor": 0
      },
      "text/plain": [
       "VBox(children=(VBox(children=(HBox(children=(Label(value='levels:'), FloatSlider(value=0.1, max=1.0, step=0.00…"
      ]
     },
     "metadata": {},
     "output_type": "display_data"
    }
   ],
   "source": [
    "ipv.quickvolshow(recon2)"
   ]
  },
  {
   "cell_type": "code",
   "execution_count": null,
   "metadata": {},
   "outputs": [],
   "source": []
  }
 ],
 "metadata": {
  "kernelspec": {
   "display_name": "Python 3.7 (py37)",
   "language": "python",
   "name": "py37"
  },
  "language_info": {
   "codemirror_mode": {
    "name": "ipython",
    "version": 3
   },
   "file_extension": ".py",
   "mimetype": "text/x-python",
   "name": "python",
   "nbconvert_exporter": "python",
   "pygments_lexer": "ipython3",
   "version": "3.7.4"
  }
 },
 "nbformat": 4,
 "nbformat_minor": 4
}
